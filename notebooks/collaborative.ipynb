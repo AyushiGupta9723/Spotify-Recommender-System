{
 "cells": [
  {
   "cell_type": "code",
   "execution_count": 1,
   "id": "b947e235",
   "metadata": {},
   "outputs": [],
   "source": [
    "import os\n",
    "from pathlib import Path\n",
    "import pandas as pd\n",
    "import numpy as np\n",
    "import matplotlib.pyplot as plt\n",
    "import seaborn as sns"
   ]
  },
  {
   "cell_type": "code",
   "execution_count": 18,
   "id": "ff2be29b",
   "metadata": {},
   "outputs": [],
   "source": [
    "data_path = Path(r\"\\Users\\ayush\\.cache\\kagglehub\\datasets\\undefinenull\\million-song-dataset-spotify-lastfm\\versions\\1\")\n",
    "songs_data_path = data_path / 'Music Info.csv'\n",
    "users_data_path = data_path / 'User Listening History.csv'"
   ]
  },
  {
   "cell_type": "code",
   "execution_count": 4,
   "id": "be35fae2",
   "metadata": {},
   "outputs": [
    {
     "data": {
      "text/html": [
       "<div>\n",
       "<style scoped>\n",
       "    .dataframe tbody tr th:only-of-type {\n",
       "        vertical-align: middle;\n",
       "    }\n",
       "\n",
       "    .dataframe tbody tr th {\n",
       "        vertical-align: top;\n",
       "    }\n",
       "\n",
       "    .dataframe thead th {\n",
       "        text-align: right;\n",
       "    }\n",
       "</style>\n",
       "<table border=\"1\" class=\"dataframe\">\n",
       "  <thead>\n",
       "    <tr style=\"text-align: right;\">\n",
       "      <th></th>\n",
       "      <th>track_id</th>\n",
       "      <th>name</th>\n",
       "      <th>artist</th>\n",
       "      <th>spotify_preview_url</th>\n",
       "    </tr>\n",
       "  </thead>\n",
       "  <tbody>\n",
       "    <tr>\n",
       "      <th>0</th>\n",
       "      <td>TRIOREW128F424EAF0</td>\n",
       "      <td>Mr. Brightside</td>\n",
       "      <td>The Killers</td>\n",
       "      <td>https://p.scdn.co/mp3-preview/4d26180e6961fd46...</td>\n",
       "    </tr>\n",
       "    <tr>\n",
       "      <th>1</th>\n",
       "      <td>TRRIVDJ128F429B0E8</td>\n",
       "      <td>Wonderwall</td>\n",
       "      <td>Oasis</td>\n",
       "      <td>https://p.scdn.co/mp3-preview/d012e536916c927b...</td>\n",
       "    </tr>\n",
       "    <tr>\n",
       "      <th>2</th>\n",
       "      <td>TROUVHL128F426C441</td>\n",
       "      <td>Come as You Are</td>\n",
       "      <td>Nirvana</td>\n",
       "      <td>https://p.scdn.co/mp3-preview/a1c11bb1cb231031...</td>\n",
       "    </tr>\n",
       "    <tr>\n",
       "      <th>3</th>\n",
       "      <td>TRUEIND128F93038C4</td>\n",
       "      <td>Take Me Out</td>\n",
       "      <td>Franz Ferdinand</td>\n",
       "      <td>https://p.scdn.co/mp3-preview/399c401370438be4...</td>\n",
       "    </tr>\n",
       "    <tr>\n",
       "      <th>4</th>\n",
       "      <td>TRLNZBD128F935E4D8</td>\n",
       "      <td>Creep</td>\n",
       "      <td>Radiohead</td>\n",
       "      <td>https://p.scdn.co/mp3-preview/e7eb60e9466bc3a2...</td>\n",
       "    </tr>\n",
       "  </tbody>\n",
       "</table>\n",
       "</div>"
      ],
      "text/plain": [
       "             track_id             name           artist  \\\n",
       "0  TRIOREW128F424EAF0   Mr. Brightside      The Killers   \n",
       "1  TRRIVDJ128F429B0E8       Wonderwall            Oasis   \n",
       "2  TROUVHL128F426C441  Come as You Are          Nirvana   \n",
       "3  TRUEIND128F93038C4      Take Me Out  Franz Ferdinand   \n",
       "4  TRLNZBD128F935E4D8            Creep        Radiohead   \n",
       "\n",
       "                                 spotify_preview_url  \n",
       "0  https://p.scdn.co/mp3-preview/4d26180e6961fd46...  \n",
       "1  https://p.scdn.co/mp3-preview/d012e536916c927b...  \n",
       "2  https://p.scdn.co/mp3-preview/a1c11bb1cb231031...  \n",
       "3  https://p.scdn.co/mp3-preview/399c401370438be4...  \n",
       "4  https://p.scdn.co/mp3-preview/e7eb60e9466bc3a2...  "
      ]
     },
     "execution_count": 4,
     "metadata": {},
     "output_type": "execute_result"
    }
   ],
   "source": [
    "# songs_data\n",
    "\n",
    "songs_df = pd.read_csv(songs_data_path, usecols=[\"track_id\",\"name\",\"artist\",\"spotify_preview_url\"])\n",
    "\n",
    "songs_df.head()"
   ]
  },
  {
   "cell_type": "code",
   "execution_count": 99,
   "id": "8c932a3a",
   "metadata": {},
   "outputs": [
    {
     "data": {
      "text/html": [
       "<div>\n",
       "<style scoped>\n",
       "    .dataframe tbody tr th:only-of-type {\n",
       "        vertical-align: middle;\n",
       "    }\n",
       "\n",
       "    .dataframe tbody tr th {\n",
       "        vertical-align: top;\n",
       "    }\n",
       "\n",
       "    .dataframe thead th {\n",
       "        text-align: right;\n",
       "    }\n",
       "</style>\n",
       "<table border=\"1\" class=\"dataframe\">\n",
       "  <thead>\n",
       "    <tr style=\"text-align: right;\">\n",
       "      <th></th>\n",
       "      <th>track_id</th>\n",
       "      <th>user_id</th>\n",
       "      <th>playcount</th>\n",
       "    </tr>\n",
       "  </thead>\n",
       "  <tbody>\n",
       "    <tr>\n",
       "      <th>0</th>\n",
       "      <td>TRIRLYL128F42539D1</td>\n",
       "      <td>b80344d063b5ccb3212f76538f3d9e43d87dca9e</td>\n",
       "      <td>1</td>\n",
       "    </tr>\n",
       "    <tr>\n",
       "      <th>1</th>\n",
       "      <td>TRFUPBA128F934F7E1</td>\n",
       "      <td>b80344d063b5ccb3212f76538f3d9e43d87dca9e</td>\n",
       "      <td>1</td>\n",
       "    </tr>\n",
       "    <tr>\n",
       "      <th>2</th>\n",
       "      <td>TRLQPQJ128F42AA94F</td>\n",
       "      <td>b80344d063b5ccb3212f76538f3d9e43d87dca9e</td>\n",
       "      <td>1</td>\n",
       "    </tr>\n",
       "    <tr>\n",
       "      <th>3</th>\n",
       "      <td>TRTUCUY128F92E1D24</td>\n",
       "      <td>b80344d063b5ccb3212f76538f3d9e43d87dca9e</td>\n",
       "      <td>1</td>\n",
       "    </tr>\n",
       "    <tr>\n",
       "      <th>4</th>\n",
       "      <td>TRHDDQG12903CB53EE</td>\n",
       "      <td>b80344d063b5ccb3212f76538f3d9e43d87dca9e</td>\n",
       "      <td>1</td>\n",
       "    </tr>\n",
       "  </tbody>\n",
       "</table>\n",
       "</div>"
      ],
      "text/plain": [
       "             track_id                                   user_id  playcount\n",
       "0  TRIRLYL128F42539D1  b80344d063b5ccb3212f76538f3d9e43d87dca9e          1\n",
       "1  TRFUPBA128F934F7E1  b80344d063b5ccb3212f76538f3d9e43d87dca9e          1\n",
       "2  TRLQPQJ128F42AA94F  b80344d063b5ccb3212f76538f3d9e43d87dca9e          1\n",
       "3  TRTUCUY128F92E1D24  b80344d063b5ccb3212f76538f3d9e43d87dca9e          1\n",
       "4  TRHDDQG12903CB53EE  b80344d063b5ccb3212f76538f3d9e43d87dca9e          1"
      ]
     },
     "execution_count": 99,
     "metadata": {},
     "output_type": "execute_result"
    }
   ],
   "source": [
    "df=pd.read_csv(users_data_path)\n",
    "df.head()"
   ]
  },
  {
   "cell_type": "code",
   "execution_count": 60,
   "id": "a0a05e0f",
   "metadata": {},
   "outputs": [
    {
     "data": {
      "text/plain": [
       "30459"
      ]
     },
     "execution_count": 60,
     "metadata": {},
     "output_type": "execute_result"
    }
   ],
   "source": [
    "\n",
    "unique_tracks = df.loc[:,\"track_id\"].nunique()\n",
    "unique_tracks"
   ]
  },
  {
   "cell_type": "code",
   "execution_count": 61,
   "id": "11eca007",
   "metadata": {},
   "outputs": [
    {
     "data": {
      "text/plain": [
       "962037"
      ]
     },
     "execution_count": 61,
     "metadata": {},
     "output_type": "execute_result"
    }
   ],
   "source": [
    "\n",
    "unique_tracks = df.loc[:,\"user_id\"].nunique()\n",
    "unique_tracks"
   ]
  },
  {
   "cell_type": "code",
   "execution_count": 62,
   "id": "e8f5c3e1",
   "metadata": {},
   "outputs": [],
   "source": [
    "# list of unique track_ids\n",
    "\n",
    "unique_track_ids = df.loc[:,\"track_id\"].unique()\n",
    "\n",
    "unique_track_ids = unique_track_ids.tolist()"
   ]
  },
  {
   "cell_type": "code",
   "execution_count": 63,
   "id": "6312c4bf",
   "metadata": {},
   "outputs": [],
   "source": [
    "# filtered songs\n",
    "\n",
    "filtered_songs = songs_df[songs_df[\"track_id\"].isin(unique_track_ids)]\n",
    "\n",
    "filtered_songs.reset_index(drop=True, inplace=True)"
   ]
  },
  {
   "cell_type": "code",
   "execution_count": 64,
   "id": "08957229",
   "metadata": {},
   "outputs": [
    {
     "data": {
      "text/html": [
       "<div>\n",
       "<style scoped>\n",
       "    .dataframe tbody tr th:only-of-type {\n",
       "        vertical-align: middle;\n",
       "    }\n",
       "\n",
       "    .dataframe tbody tr th {\n",
       "        vertical-align: top;\n",
       "    }\n",
       "\n",
       "    .dataframe thead th {\n",
       "        text-align: right;\n",
       "    }\n",
       "</style>\n",
       "<table border=\"1\" class=\"dataframe\">\n",
       "  <thead>\n",
       "    <tr style=\"text-align: right;\">\n",
       "      <th></th>\n",
       "      <th>track_id</th>\n",
       "      <th>name</th>\n",
       "      <th>artist</th>\n",
       "      <th>spotify_preview_url</th>\n",
       "    </tr>\n",
       "  </thead>\n",
       "  <tbody>\n",
       "    <tr>\n",
       "      <th>0</th>\n",
       "      <td>TRIOREW128F424EAF0</td>\n",
       "      <td>Mr. Brightside</td>\n",
       "      <td>The Killers</td>\n",
       "      <td>https://p.scdn.co/mp3-preview/4d26180e6961fd46...</td>\n",
       "    </tr>\n",
       "    <tr>\n",
       "      <th>1</th>\n",
       "      <td>TRRIVDJ128F429B0E8</td>\n",
       "      <td>Wonderwall</td>\n",
       "      <td>Oasis</td>\n",
       "      <td>https://p.scdn.co/mp3-preview/d012e536916c927b...</td>\n",
       "    </tr>\n",
       "    <tr>\n",
       "      <th>2</th>\n",
       "      <td>TRUEIND128F93038C4</td>\n",
       "      <td>Take Me Out</td>\n",
       "      <td>Franz Ferdinand</td>\n",
       "      <td>https://p.scdn.co/mp3-preview/399c401370438be4...</td>\n",
       "    </tr>\n",
       "    <tr>\n",
       "      <th>3</th>\n",
       "      <td>TRXOGZT128F424AD74</td>\n",
       "      <td>Karma Police</td>\n",
       "      <td>Radiohead</td>\n",
       "      <td>https://p.scdn.co/mp3-preview/5a09f5390e2862af...</td>\n",
       "    </tr>\n",
       "    <tr>\n",
       "      <th>4</th>\n",
       "      <td>TRUJIIV12903CA8848</td>\n",
       "      <td>Clocks</td>\n",
       "      <td>Coldplay</td>\n",
       "      <td>https://p.scdn.co/mp3-preview/24c7fe858b234e3c...</td>\n",
       "    </tr>\n",
       "    <tr>\n",
       "      <th>...</th>\n",
       "      <td>...</td>\n",
       "      <td>...</td>\n",
       "      <td>...</td>\n",
       "      <td>...</td>\n",
       "    </tr>\n",
       "    <tr>\n",
       "      <th>30454</th>\n",
       "      <td>TRXWSIN128F9339A11</td>\n",
       "      <td>Infinite Love Song</td>\n",
       "      <td>Maximilian Hecker</td>\n",
       "      <td>https://p.scdn.co/mp3-preview/8b3d529025fe3c60...</td>\n",
       "    </tr>\n",
       "    <tr>\n",
       "      <th>30455</th>\n",
       "      <td>TRPIGDW12903CDEB2D</td>\n",
       "      <td>Slip of the Lip</td>\n",
       "      <td>Fact</td>\n",
       "      <td>https://p.scdn.co/mp3-preview/cf64490291f9a600...</td>\n",
       "    </tr>\n",
       "    <tr>\n",
       "      <th>30456</th>\n",
       "      <td>TRQYCFV128F9322F50</td>\n",
       "      <td>Ryusei Rocket</td>\n",
       "      <td>アンティック-珈琲店-</td>\n",
       "      <td>https://p.scdn.co/mp3-preview/d2668a5a3e0b1fda...</td>\n",
       "    </tr>\n",
       "    <tr>\n",
       "      <th>30457</th>\n",
       "      <td>TRHQCSH128F42724B7</td>\n",
       "      <td>Colors Of The Wind</td>\n",
       "      <td>ACIDMAN</td>\n",
       "      <td>https://p.scdn.co/mp3-preview/8e22a7052ef3ecf7...</td>\n",
       "    </tr>\n",
       "    <tr>\n",
       "      <th>30458</th>\n",
       "      <td>TRGLMEM128F9322F63</td>\n",
       "      <td>Koi no Dependence</td>\n",
       "      <td>アンティック-珈琲店-</td>\n",
       "      <td>https://p.scdn.co/mp3-preview/5a61e031df174666...</td>\n",
       "    </tr>\n",
       "  </tbody>\n",
       "</table>\n",
       "<p>30459 rows × 4 columns</p>\n",
       "</div>"
      ],
      "text/plain": [
       "                 track_id                name             artist  \\\n",
       "0      TRIOREW128F424EAF0      Mr. Brightside        The Killers   \n",
       "1      TRRIVDJ128F429B0E8          Wonderwall              Oasis   \n",
       "2      TRUEIND128F93038C4         Take Me Out    Franz Ferdinand   \n",
       "3      TRXOGZT128F424AD74        Karma Police          Radiohead   \n",
       "4      TRUJIIV12903CA8848              Clocks           Coldplay   \n",
       "...                   ...                 ...                ...   \n",
       "30454  TRXWSIN128F9339A11  Infinite Love Song  Maximilian Hecker   \n",
       "30455  TRPIGDW12903CDEB2D     Slip of the Lip               Fact   \n",
       "30456  TRQYCFV128F9322F50       Ryusei Rocket        アンティック-珈琲店-   \n",
       "30457  TRHQCSH128F42724B7  Colors Of The Wind            ACIDMAN   \n",
       "30458  TRGLMEM128F9322F63   Koi no Dependence        アンティック-珈琲店-   \n",
       "\n",
       "                                     spotify_preview_url  \n",
       "0      https://p.scdn.co/mp3-preview/4d26180e6961fd46...  \n",
       "1      https://p.scdn.co/mp3-preview/d012e536916c927b...  \n",
       "2      https://p.scdn.co/mp3-preview/399c401370438be4...  \n",
       "3      https://p.scdn.co/mp3-preview/5a09f5390e2862af...  \n",
       "4      https://p.scdn.co/mp3-preview/24c7fe858b234e3c...  \n",
       "...                                                  ...  \n",
       "30454  https://p.scdn.co/mp3-preview/8b3d529025fe3c60...  \n",
       "30455  https://p.scdn.co/mp3-preview/cf64490291f9a600...  \n",
       "30456  https://p.scdn.co/mp3-preview/d2668a5a3e0b1fda...  \n",
       "30457  https://p.scdn.co/mp3-preview/8e22a7052ef3ecf7...  \n",
       "30458  https://p.scdn.co/mp3-preview/5a61e031df174666...  \n",
       "\n",
       "[30459 rows x 4 columns]"
      ]
     },
     "execution_count": 64,
     "metadata": {},
     "output_type": "execute_result"
    }
   ],
   "source": [
    "filtered_songs"
   ]
  },
  {
   "cell_type": "code",
   "execution_count": 66,
   "id": "c2c6d87d",
   "metadata": {},
   "outputs": [],
   "source": [
    "from scipy.sparse import csr_matrix\n",
    "df['user_id'] = df['user_id'].astype(\"category\")\n",
    "df['track_id'] = df['track_id'].astype(\"category\")\n",
    "df['playcount'] =df['playcount'].astype(float)\n",
    "\n",
    "\n",
    "# This is necessary for creating a sparse matrix later\n",
    "user_mapping = df['user_id'].cat.codes\n",
    "track_mapping = df['track_id'].cat.codes\n",
    "\n",
    "df = df.assign(\n",
    "    user_idx=user_mapping,\n",
    "    track_idx=track_mapping\n",
    ")"
   ]
  },
  {
   "cell_type": "code",
   "execution_count": 68,
   "id": "cce6416b",
   "metadata": {},
   "outputs": [],
   "source": [
    "\n",
    "interaction_array = df.groupby(['track_idx', 'user_idx'])['playcount'].sum().reset_index()\n"
   ]
  },
  {
   "cell_type": "code",
   "execution_count": null,
   "id": "00f42803",
   "metadata": {},
   "outputs": [],
   "source": [
    "\n",
    "row_indices = interaction_array['track_idx']\n",
    "col_indices = interaction_array['user_idx']\n",
    "values = interaction_array['playcount']"
   ]
  },
  {
   "cell_type": "code",
   "execution_count": null,
   "id": "eff7b582",
   "metadata": {},
   "outputs": [
    {
     "data": {
      "text/plain": [
       "962037"
      ]
     },
     "execution_count": 71,
     "metadata": {},
     "output_type": "execute_result"
    }
   ],
   "source": [
    "#number of unique users in the data\n",
    "\n",
    "unique_users = df.loc[:,\"user_id\"].nunique()\n",
    "unique_users"
   ]
  },
  {
   "cell_type": "code",
   "execution_count": 72,
   "id": "d0bafd03",
   "metadata": {},
   "outputs": [
    {
     "name": "stdout",
     "output_type": "stream",
     "text": [
      "Sparse matrix shape: (962037, 962037)\n",
      "Non-zero elements: 9711301\n"
     ]
    }
   ],
   "source": [
    "# Build a sparse matrix\n",
    "n_tracks = unique_tracks\n",
    "n_users = unique_users\n",
    "\n",
    "sparse_matrix = csr_matrix((values, (row_indices, col_indices)), shape=(n_tracks, n_users))\n",
    "\n",
    "print(\"Sparse matrix shape:\", sparse_matrix.shape)\n",
    "print(\"Non-zero elements:\", sparse_matrix.nnz)"
   ]
  },
  {
   "cell_type": "code",
   "execution_count": null,
   "id": "a3435fdd",
   "metadata": {},
   "outputs": [],
   "source": []
  }
 ],
 "metadata": {
  "kernelspec": {
   "display_name": "venv",
   "language": "python",
   "name": "python3"
  },
  "language_info": {
   "codemirror_mode": {
    "name": "ipython",
    "version": 3
   },
   "file_extension": ".py",
   "mimetype": "text/x-python",
   "name": "python",
   "nbconvert_exporter": "python",
   "pygments_lexer": "ipython3",
   "version": "3.13.7"
  }
 },
 "nbformat": 4,
 "nbformat_minor": 5
}
